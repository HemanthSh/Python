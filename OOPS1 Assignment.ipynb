{
 "cells": [
  {
   "cell_type": "markdown",
   "id": "3745f4db-22e4-4eac-84a2-261de21dc853",
   "metadata": {},
   "source": [
    "Q1. Explain Class and Object with respect to Object-Oriented Programming. Give a suitable example.\n",
    "Ans:-Classes are user-defined data types that act as the blueprint for individual objects, attributes and methods. Objects are instances of a class created with specifically defined data. Objects can correspond to real-world objects or an abstract entity.\n",
    "Example:- class = test, object = a"
   ]
  },
  {
   "cell_type": "code",
   "execution_count": 1,
   "id": "454a87b6-32a0-4f3b-a7ad-476aeda2370d",
   "metadata": {},
   "outputs": [],
   "source": [
    "class test():\n",
    "    pass"
   ]
  },
  {
   "cell_type": "code",
   "execution_count": 2,
   "id": "40592957-962f-4149-9aa3-b9637a1049ce",
   "metadata": {},
   "outputs": [],
   "source": [
    "a= test()"
   ]
  },
  {
   "cell_type": "code",
   "execution_count": 3,
   "id": "b912fec8-63fd-4012-86ea-68f642716097",
   "metadata": {},
   "outputs": [
    {
     "name": "stdout",
     "output_type": "stream",
     "text": [
      "<class '__main__.test'>\n"
     ]
    }
   ],
   "source": [
    "print(type(a))"
   ]
  },
  {
   "cell_type": "markdown",
   "id": "a540254b-1d3f-4a21-affe-44797d9d9951",
   "metadata": {},
   "source": [
    "Q2. Name the four pillars of OOPs.\n",
    "Ans:- The four pillars of OOPs are \n",
    "* Abstraction\n",
    "* Encapsulation\n",
    "* Inheritance\n",
    "* Polymorphism."
   ]
  },
  {
   "cell_type": "markdown",
   "id": "c8d5608e-e6cd-40dc-9a9e-6d97117c9d5b",
   "metadata": {},
   "source": [
    "Q3. Explain why the __init__() function is used. Give a suitable example.\n",
    "Ans:- __init__() is an inbuilt function or constructor.\n",
    "Example:- "
   ]
  },
  {
   "cell_type": "code",
   "execution_count": 13,
   "id": "cfff2a39-53d8-45e8-8bb4-082a2af92031",
   "metadata": {},
   "outputs": [],
   "source": [
    "class pwskills():\n",
    "    \n",
    "    def __init__(self, phone_number, email_id, student_id):\n",
    "        self.phone_number= phone_number\n",
    "        self.email_id= email_id\n",
    "        self.student_id= student_id\n",
    "        \n",
    "        def return_student_details(self):\n",
    "            return self.phone_number, self.email_id, self.student_id\n",
    "    "
   ]
  },
  {
   "cell_type": "code",
   "execution_count": 14,
   "id": "42a58f73-3664-4dec-aae7-e33ced1ba643",
   "metadata": {},
   "outputs": [],
   "source": [
    "sohan = pwskills(965395691, \"sohan@gmail.com\", 102)"
   ]
  },
  {
   "cell_type": "code",
   "execution_count": 15,
   "id": "f220a5e7-a826-49e9-9b23-df43954be924",
   "metadata": {},
   "outputs": [
    {
     "data": {
      "text/plain": [
       "965395691"
      ]
     },
     "execution_count": 15,
     "metadata": {},
     "output_type": "execute_result"
    }
   ],
   "source": [
    "sohan.phone_number"
   ]
  },
  {
   "cell_type": "markdown",
   "id": "b0031c5f-1fec-4305-82d8-9d8efc573499",
   "metadata": {},
   "source": [
    "Q4. Why self is used in OOPs?\n",
    "Ans:- self is a pointer or reference so that the class will be able to bind this method.\n",
    "the class will be able to understand this method belongs to me and class variables will be able to access it."
   ]
  },
  {
   "cell_type": "markdown",
   "id": "677fcea9-fec1-444b-958b-617be1376851",
   "metadata": {},
   "source": [
    "Q5. What is inheritance? Give an example for each type of inheritance.\n",
    "When a class derives from another class. The child class will inherit all the public and protected properties and methods from the parent class is called as Inheritance.\n",
    "Types of Inheritance"
   ]
  },
  {
   "cell_type": "markdown",
   "id": "a100d201-553b-4be3-90dd-2dba0236d9eb",
   "metadata": {},
   "source": [
    "* Multilabel Inheritance :-"
   ]
  },
  {
   "cell_type": "code",
   "execution_count": 16,
   "id": "ae728b0e-aff3-4762-917a-cbf1a228f657",
   "metadata": {},
   "outputs": [],
   "source": [
    "class class1:\n",
    "    def test_class1(self):\n",
    "        print(\"This is my class1\")"
   ]
  },
  {
   "cell_type": "code",
   "execution_count": 20,
   "id": "56994f3f-c7c0-45d0-9de9-78f8638d9faf",
   "metadata": {},
   "outputs": [],
   "source": [
    "class class2(class1):\n",
    "    def test_class2(self):\n",
    "        print(\"This is my class2\")"
   ]
  },
  {
   "cell_type": "code",
   "execution_count": 21,
   "id": "28c9789b-c9f2-4af7-a42a-16f00a3f52a4",
   "metadata": {},
   "outputs": [],
   "source": [
    "class class3(class2):\n",
    "    def test_class3(self):\n",
    "        print(\"This is my class3\")"
   ]
  },
  {
   "cell_type": "code",
   "execution_count": 22,
   "id": "2982cec2-c27f-4cb0-afc9-35e2a4a0ceef",
   "metadata": {},
   "outputs": [],
   "source": [
    "obj_class3 = class3()"
   ]
  },
  {
   "cell_type": "code",
   "execution_count": 24,
   "id": "7eb6d3ed-6c9a-4aab-8bdb-63224877b7a8",
   "metadata": {},
   "outputs": [
    {
     "name": "stdout",
     "output_type": "stream",
     "text": [
      "This is my class1\n"
     ]
    }
   ],
   "source": [
    "obj_class3.test_class1()"
   ]
  },
  {
   "cell_type": "code",
   "execution_count": 25,
   "id": "06b924b5-58f8-4081-b75f-328b307519cd",
   "metadata": {},
   "outputs": [
    {
     "name": "stdout",
     "output_type": "stream",
     "text": [
      "This is my class2\n"
     ]
    }
   ],
   "source": [
    "obj_class3.test_class2()"
   ]
  },
  {
   "cell_type": "markdown",
   "id": "ffd4b094-f740-450a-9f40-50348c3241f8",
   "metadata": {},
   "source": [
    "* Multilple Inheritance"
   ]
  },
  {
   "cell_type": "code",
   "execution_count": 26,
   "id": "20f1dbed-b0f4-4eab-afb7-51688cd5b6ec",
   "metadata": {},
   "outputs": [],
   "source": [
    "class class1:\n",
    "    def test_class1(self):\n",
    "        print(\"This is my class1\")"
   ]
  },
  {
   "cell_type": "code",
   "execution_count": 27,
   "id": "a7fb2238-ac6c-4431-b605-7f5805bf66d6",
   "metadata": {},
   "outputs": [],
   "source": [
    "class class2:\n",
    "    def test_class2(self):\n",
    "        print(\"This is my class2\")"
   ]
  },
  {
   "cell_type": "code",
   "execution_count": 28,
   "id": "fcdfbf30-9c17-4ac8-9a26-8cbd4446fe37",
   "metadata": {},
   "outputs": [],
   "source": [
    "class class3(class1, class2):\n",
    "    pass"
   ]
  },
  {
   "cell_type": "code",
   "execution_count": 29,
   "id": "32d3ac5b-d22e-45ce-bb99-68aab8d12c07",
   "metadata": {},
   "outputs": [],
   "source": [
    "obj_class3= class3()"
   ]
  },
  {
   "cell_type": "code",
   "execution_count": 31,
   "id": "f624f653-648d-45c6-aeba-d1e9b5791603",
   "metadata": {},
   "outputs": [
    {
     "name": "stdout",
     "output_type": "stream",
     "text": [
      "This is my class1\n"
     ]
    }
   ],
   "source": [
    "obj_class3.test_class1()"
   ]
  },
  {
   "cell_type": "code",
   "execution_count": 32,
   "id": "25b9d15f-623e-4cc1-baeb-79eb725859f0",
   "metadata": {},
   "outputs": [
    {
     "name": "stdout",
     "output_type": "stream",
     "text": [
      "This is my class2\n"
     ]
    }
   ],
   "source": [
    "obj_class3.test_class2()"
   ]
  },
  {
   "cell_type": "code",
   "execution_count": null,
   "id": "ecd277ca-0c3f-4bbe-9fee-f046a08b144f",
   "metadata": {},
   "outputs": [],
   "source": []
  }
 ],
 "metadata": {
  "kernelspec": {
   "display_name": "Python 3 (ipykernel)",
   "language": "python",
   "name": "python3"
  },
  "language_info": {
   "codemirror_mode": {
    "name": "ipython",
    "version": 3
   },
   "file_extension": ".py",
   "mimetype": "text/x-python",
   "name": "python",
   "nbconvert_exporter": "python",
   "pygments_lexer": "ipython3",
   "version": "3.10.8"
  }
 },
 "nbformat": 4,
 "nbformat_minor": 5
}
